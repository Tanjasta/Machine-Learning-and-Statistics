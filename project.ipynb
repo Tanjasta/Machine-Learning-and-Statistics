{
 "cells": [
  {
   "cell_type": "markdown",
   "metadata": {},
   "source": [
    "# Machine Learning and Statistics Project\n",
    "\n",
    "**Tatjana Staunton**\n",
    "\n",
    "***"
   ]
  },
  {
   "cell_type": "markdown",
   "metadata": {},
   "source": [
    ">• The project is to create a notebook exploring classification algorithms applied on the iris flower data set associated with Ronald\n",
    "A Fisher.\n",
    "\n",
    ">• In your notebook, you should first explain what supervised learning is and then explain what classification algorithms are.\n",
    "\n",
    ">• Describe at least one common classification algorithm and implement it using the `scikit-learn` Python library.\n",
    "\n",
    ">• Throughout your notebook, use appropriate plots, mathematical\n",
    "notation, and diagrams to explain the relevant concepts."
   ]
  },
  {
   "cell_type": "markdown",
   "metadata": {},
   "source": [
    "![Iris Flowers](https://s3.amazonaws.com/assets.datacamp.com/blog_assets/Machine+Learning+R/iris-machinelearning.png)"
   ]
  },
  {
   "cell_type": "markdown",
   "metadata": {},
   "source": [
    "#### Overview of Fisher's Iris Dataset\n",
    "\n",
    "The Iris dataset is a popular dataset in the field of machine learning and statistics. It was introduced by the British biologist and statistician Sir Ronald A. Fisher in 1936.  The dataset is based on a study where measurements were taken from three species of iris flowers: setosa, versicolor, and virginica. There are four features (attributes) measured for each flower:\n",
    "* Sepal length (in cm)\n",
    "* Sepal width (in cm)\n",
    "* Petal length (in cm)\n",
    "* Petal width (in cm)\n",
    "There are three classes:\n",
    "* Iris setosa\n",
    "* Iris versicolor\n",
    "* Iris virginica\n",
    "\n",
    "There are typically 150 instances in the dataset, with 50 instances for each of the three species. The Iris dataset has become a classic example in the field and is frequently used in tutorials and educational materials for introducing concepts of machine learning and data analysis."
   ]
  },
  {
   "cell_type": "markdown",
   "metadata": {},
   "source": [
    "#### References\n",
    "http://www.lac.inpe.br/~rafael.santos/Docs/CAP394/WholeStory-Iris.html\n",
    "\n",
    "https://raw.githubusercontent.com/mwaskom/seaborn-data/master/iris.csv\n",
    "\n",
    "http://archive.ics.uci.edu/ml/datasets/Iris\n",
    "\n",
    "https://en.wikipedia.org/wiki/Iris_flower_data_set\n",
    "\n"
   ]
  }
 ],
 "metadata": {
  "kernelspec": {
   "display_name": "base",
   "language": "python",
   "name": "python3"
  },
  "language_info": {
   "codemirror_mode": {
    "name": "ipython",
    "version": 3
   },
   "file_extension": ".py",
   "mimetype": "text/x-python",
   "name": "python",
   "nbconvert_exporter": "python",
   "pygments_lexer": "ipython3",
   "version": "3.11.4"
  }
 },
 "nbformat": 4,
 "nbformat_minor": 2
}
