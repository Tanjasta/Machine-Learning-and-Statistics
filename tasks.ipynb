{
 "cells": [
  {
   "cell_type": "markdown",
   "metadata": {},
   "source": [
    "# Machine Learning and Statistics Tasks\n",
    "\n",
    "**Tatjana Staunton**\n",
    "\n",
    "***"
   ]
  },
  {
   "cell_type": "markdown",
   "metadata": {},
   "source": [
    "## Task 1\n",
    "\n",
    "\n",
    "\n",
    "\n",
    "\n"
   ]
  },
  {
   "cell_type": "markdown",
   "metadata": {},
   "source": [
    ">Square roots are difficult to calculate. In Python, you typically\n",
    "use the power operator (a double asterisk) or a package such\n",
    "as `math`. In this task, you should write a function `sqrt(x)` to \n",
    "approximate the square root of a floating point number x without\n",
    "using the power operator or a package.\n",
    "\n",
    ">Rather, you should use the Newton’s method. Start with an \n",
    "initial guess for the square root called $z_0$. You then repeatedly\n",
    "improve it using the following formula, until the difference between some previous guess $z_i$ and the next $z_{i+1}$\n",
    "is less than some\n",
    "threshold, say 0.01.\n",
    "\n",
    "$$ z_{i+1} = z_i - \\frac{z_i * z_i - x}{2z_i}$$\n",
    "\n",
    "https://atlantictu-my.sharepoint.com/personal/ian_mcloughlin_atu_ie/_layouts/15/stream.aspx?id=%2Fpersonal%2Fian%5Fmcloughlin%5Fatu%5Fie%2FDocuments%2Fstudent%5Fshares%2Fmachine%5Flearnning%5Fand%5Fstatistics%2F1%5Fgeneral%2Ft01v11%5Ftask%5Fone%5Fand%5Frepo%2Emkv&referrer=StreamWebApp%2EWeb&referrerScenario=AddressBarCopied%2Eview"
   ]
  },
  {
   "cell_type": "code",
   "execution_count": 1,
   "metadata": {},
   "outputs": [],
   "source": [
    "def sqrt(x):\n",
    "# Initial guess for the square root.\n",
    "    z = x / 4.0\n",
    "# Loop until it accurate enough.\n",
    "    for i in range(100):\n",
    "# Newton's method for a better \n",
    "        z = z - (((z * z) -x) / (2 * z))\n",
    "# Now z should be a good aproximation for the square root.\n",
    "    return z"
   ]
  },
  {
   "cell_type": "code",
   "execution_count": 2,
   "metadata": {},
   "outputs": [
    {
     "data": {
      "text/plain": [
       "2.23606797749979"
      ]
     },
     "execution_count": 2,
     "metadata": {},
     "output_type": "execute_result"
    }
   ],
   "source": [
    "# Test the function on 5.\n",
    "sqrt(5)"
   ]
  },
  {
   "cell_type": "code",
   "execution_count": 3,
   "metadata": {},
   "outputs": [
    {
     "data": {
      "text/plain": [
       "2.23606797749979"
      ]
     },
     "execution_count": 3,
     "metadata": {},
     "output_type": "execute_result"
    }
   ],
   "source": [
    "# Check Python's square root of 3.\n",
    "5 ** 0.5"
   ]
  },
  {
   "cell_type": "markdown",
   "metadata": {},
   "source": [
    "##### Notes\n",
    "\n",
    "***\n",
    "\n",
    ">1. The calculation $z^2 - x$ is exactly zero when $z$ is the square root of $x$. it is greater than zero when $z$ is too big. It is less than zero when $z$ is too small. Thus $(z^2 - x)^2$ ia a good candidate for a cost function.\n",
    ">2. The derivative of the numerator $z^2 - x$ with respect to $z$ is $2z$.That is denominator."
   ]
  },
  {
   "cell_type": "markdown",
   "metadata": {},
   "source": [
    "***"
   ]
  },
  {
   "cell_type": "code",
   "execution_count": null,
   "metadata": {},
   "outputs": [],
   "source": []
  },
  {
   "cell_type": "code",
   "execution_count": null,
   "metadata": {},
   "outputs": [],
   "source": []
  },
  {
   "cell_type": "code",
   "execution_count": null,
   "metadata": {},
   "outputs": [],
   "source": []
  }
 ],
 "metadata": {
  "kernelspec": {
   "display_name": "base",
   "language": "python",
   "name": "python3"
  },
  "language_info": {
   "codemirror_mode": {
    "name": "ipython",
    "version": 3
   },
   "file_extension": ".py",
   "mimetype": "text/x-python",
   "name": "python",
   "nbconvert_exporter": "python",
   "pygments_lexer": "ipython3",
   "version": "3.11.4"
  },
  "orig_nbformat": 4
 },
 "nbformat": 4,
 "nbformat_minor": 2
}
